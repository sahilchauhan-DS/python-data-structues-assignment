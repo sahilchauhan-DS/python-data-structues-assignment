{
  "nbformat": 4,
  "nbformat_minor": 0,
  "metadata": {
    "colab": {
      "provenance": []
    },
    "kernelspec": {
      "name": "python3",
      "display_name": "Python 3"
    },
    "language_info": {
      "name": "python"
    }
  },
  "cells": [
    {
      "cell_type": "markdown",
      "source": [
        "Data Types and Structures"
      ],
      "metadata": {
        "id": "8F-dzJPDz9U9"
      }
    },
    {
      "cell_type": "markdown",
      "source": [
        "THEORATICAL QUESTIONS"
      ],
      "metadata": {
        "id": "LYncf4qrz_L5"
      }
    },
    {
      "cell_type": "markdown",
      "source": [
        "1. What are data structures, and why are they important?\n",
        "--> -Data structures are fundamental constructor used to organize and store data in a computer so that it can be accessed and used efficiently.\n",
        "\n",
        "-They define the way data is stored, manipulated, and retrieved in a program.\n",
        "\n",
        "Efficiency: Different data structures offer different trade-offs in terms of speed and memory usage for operations like insertion, deletion, and searching. Choosing the right data structure can significantly improve the efficiency of algorithms and programs.\n",
        "\n",
        "Organization: They provide a way to organize and structure data logically, making it easier to manage and manipulate large amounts of data.\n",
        "\n",
        "Optimization: By selecting appropriate data structures, developers can optimize the performance of their applications, ensuring they meet performance requirements and scale effectively as data volume grows.\n",
        "\n",
        "Functionality: Different data structures support different operations. For example, arrays are great for accessing elements by index, while hash tables excel at fast lookups based on keys. Understanding these capabilities helps in choosing the right tool for specific programming tasks."
      ],
      "metadata": {
        "id": "sKBnggnM0BW8"
      }
    },
    {
      "cell_type": "markdown",
      "source": [
        "2. Explain the difference between mutable and immutable data types with examples.\n",
        "-->\n",
        "\n",
        "--- Mutable Data Types\n",
        "\n",
        "a. Mutable objects allow modification after creation without changing their memory address.\n",
        "\n",
        "b.Changes happen in the same memory location.\n",
        "\n",
        "c.List, Dictionary, Set\n",
        "\n",
        "Examples:\n",
        "\n",
        "my_list = [1, 2, 3] print(id(my_list))\n",
        "\n",
        "my_list.append(4)\n",
        "print(my_list) # Output: [1, 2, 3, 4] print(id(my_list))\n",
        "\n",
        "--- Immutable Data Types\n",
        "\n",
        "a.Immutable objects do not allow modification. Any change results in a new object being created.\n",
        "\n",
        "b.A new object is created when modified.\n",
        "\n",
        "c.String, Tuple, Integer, Float, Boolean\n",
        "\n",
        "Example:\n",
        "\n",
        "my_str = \"Hello\" print(id(my_str))\n",
        "\n",
        "my_str = my_str + \" World\"\n",
        "print(my_str) # Output: Hello World print(id(my_str)) # Different memory address"
      ],
      "metadata": {
        "id": "WHs4U1Xe0HCa"
      }
    },
    {
      "cell_type": "markdown",
      "source": [
        "3. What are the main differences between lists and tuples in Python?\n",
        "-->\n",
        "\n",
        "-List : List are Mutable data types . They are slower due to dynamic resizing\n",
        "\n",
        "-Supports append, remove, insert, etc.\n",
        "\n",
        "-When frequent changes are needed\n",
        "\n",
        "Examples: my_list = [1, 2, 3]\n",
        "\n",
        "my_list.append(4)\n",
        "\n",
        "my_list[0] = 10\n",
        "\n",
        "print(my_list) # Output: [10, 2, 3, 4]\n",
        "\n",
        "-Tuple\n",
        "\n",
        "-Tuples are immutable data types.Faster due to fixed size.\n",
        "\n",
        "-Cannot change elements after creation\n",
        "\n",
        "-When data should remain constant\n",
        "\n",
        "Exmaple:\n",
        "\n",
        "my_tuple = (1, 2, 3) my_tuple[0] = 10 # TypeError: 'tuple' object does not support item assignment"
      ],
      "metadata": {
        "id": "mbearhsx0ZV8"
      }
    },
    {
      "cell_type": "markdown",
      "source": [],
      "metadata": {
        "id": "HFz6zJGW0ZYQ"
      }
    },
    {
      "cell_type": "markdown",
      "source": [
        "#**4. Describe how dictionaries store data?**\n",
        "\n",
        "-->\n",
        "A **dictionary** in Python is a collection of key-value pairs. It is implemented as a hash table, which allows for fast lookups, insertions, and deletions on average in **O(1)**  time complexity.\n",
        "\n",
        "-Dictionary works in a key:value pair format.\n",
        "\n",
        "my_dict = {\"name\": \"Alice\", \"age\": 25, \"city\": \"New York\"}\n",
        "\n",
        "Here,\n",
        "Key = name, age, city\n",
        "Values = Alice, 25, New York\n",
        "\n",
        "-**Hashing :** Python applies a hash function (hash(key)) to compute a unique hash value for each key.\n",
        "\n",
        "-**Index Calculation **: The hash value is mapped to an index in an internal array .\n",
        "\n",
        "-**Storage **: The key-value pair is stored at the calculated index.\n",
        "\n",
        "Example:\n",
        "\n",
        "my_dict = {\"a\": 100, \"b\": 200, \"c\": 300}\n",
        "\n",
        "print(hash(\"a\"))  # Generates a unique integer hash\n",
        "\n",
        "\n",
        "Advantage:\n",
        "\n",
        "--Fast Lookups & Insertions – On average, accessing a dictionary value is O(1).\n",
        "\n",
        "--Efficient Memory Management – Uses hash tables for quick access.\n",
        "\n",
        "--Key Uniqueness – No duplicate keys allowed, ensuring data integrity.\n"
      ],
      "metadata": {
        "id": "4Ki6sRHMir8_"
      }
    },
    {
      "cell_type": "markdown",
      "source": [],
      "metadata": {
        "id": "9z0CYTYx0Zav"
      }
    },
    {
      "cell_type": "markdown",
      "source": [
        "#5. Why might you use a set instead of a list in Python?\n",
        "\n",
        "-->\n",
        "\n",
        "-**List:**\n",
        "\n",
        "-- An ordered, mutable collection that allows duplicates.\n",
        "\n",
        "-**Set:**\n",
        "\n",
        "-- An unordered, mutable collection that stores unique elements only.\n",
        "\n",
        "You might use a set instead of a list in Python when you need unique elements, faster lookups (O(1) vs. O(n)), and efficient set operations like union and intersection. Unlike lists, sets automatically remove duplicates and are optimized for quick membership checks. However, sets are unordered, so use a list if order matters."
      ],
      "metadata": {
        "id": "8ydWgCn1luZo"
      }
    },
    {
      "cell_type": "markdown",
      "source": [],
      "metadata": {
        "id": "1KpqyZFL0ZdK"
      }
    },
    {
      "cell_type": "markdown",
      "source": [
        "#**6.What is a string in Python, and how is it different from a list?**\n",
        "\n",
        "-->\n",
        "\n",
        "--A string is a Immutable sequence of characters and it is represented in 'single', \"double\" or '''triple''' quotes.\n",
        "\n",
        "--my_string = \"Hello, Python!\"\n",
        "\n",
        "--And if compare to a list a set a set is immutable.\n",
        "\n",
        "--Supports indexing (s[0]) and slicing (s[1:4]).\n",
        "\n",
        "--Supports concatenation (+), repetition (*), and formatting\n",
        "\n",
        "Example:\n",
        "\n",
        "String are Immutable:\n",
        "\n",
        "s = \"hello\"\n",
        "\n",
        "s[0] = \"H\"  //TypeError: 'str' object does not support item assignment//\n",
        "\n",
        "s = \"Hello\"  //Creates a new string//\n",
        "\n",
        "List are mutable:\n",
        "\n",
        "l = [\"h\", \"e\", \"l\", \"l\", \"o\"]\n",
        "\n",
        "l[0] = \"H\"   //Allowed//\n",
        "\n",
        "print(l)  # Output: ['H', 'e', 'l', 'l', 'o']\n"
      ],
      "metadata": {
        "id": "2I5xF-Z1l2Mr"
      }
    },
    {
      "cell_type": "markdown",
      "source": [],
      "metadata": {
        "id": "aM-V8kAx0Zfo"
      }
    },
    {
      "cell_type": "markdown",
      "source": [
        "#7.How do tuples ensure data integrity in Python?\n",
        "\n",
        "-->\n",
        "A tuple is an immutable sequence in Python, meaning its elements cannot be modified after creation.\n",
        "\n",
        "-**Prevents Unintentional Modifications:**\n",
        "Once a tuple is created, its values cannot be changed, added, or removed, preventing accidental modifications.\n",
        "\n",
        "-**Safe for Hashing (Used in Keys of Dictionaries & Sets):**\n",
        "Since tuples are immutable, they can be used as keys in dictionaries or elements in sets, ensuring that key values remain stable.\n",
        "\n",
        "-**Reduces Unintended Side Effects in Functions:**\n",
        "Using tuples instead of lists in function arguments prevents accidental modifications to passed data.\n",
        "\n",
        "-**More Reliable for Fixed Data Structures:**\n",
        "Tuples are often used when data should remain constant, like coordinates, database records, or configuration settings.\n",
        "\n"
      ],
      "metadata": {
        "id": "YvLvvwywzty5"
      }
    },
    {
      "cell_type": "markdown",
      "source": [],
      "metadata": {
        "id": "t0qS-gFv0Zh1"
      }
    },
    {
      "cell_type": "markdown",
      "source": [
        "#8 What is a hash table, and how does it relate to dictionaries in Python?\n",
        "\n",
        "-->\n",
        "\n",
        "A hash table or hash map is a data structure that stores key-value pairs using a hashing function to quickly locate values. It provides fast lookups, insertions, and deletions with an average time complexity of O(1).\n",
        "\n",
        "--In Python, a dictionary (dict) is implemented using a hash table. When you store a key-value pair in a dictionary:\n",
        "\n",
        "**Hashing the Key** : Python computes a unique hash value using hash(key).\n",
        "\n",
        "**Index Mapping** : The hash value is mapped to a memory location (bucket).\n",
        "\n",
        "**Storage** : The key-value pair is stored at that index.\n",
        "\n",
        "**Example:**\n",
        "\n",
        "my_dict = {\"name\": \"Alice\", \"age\": 25}\n",
        "\n",
        "// Internally, Python:\n",
        "\n",
        "// 1. Hashes \"name\" → finds an index → stores (\"name\", \"Alice\")\n",
        "\n",
        "// 2. Hashes \"age\" → finds an index → stores (\"age\", 25)"
      ],
      "metadata": {
        "id": "qF3dZ6lp2qZC"
      }
    },
    {
      "cell_type": "markdown",
      "source": [],
      "metadata": {
        "id": "R1rA3Ftr0Zk6"
      }
    },
    {
      "cell_type": "markdown",
      "source": [
        "#9. Can lists contain different data types in Python?\n",
        "\n",
        "-->\n",
        "\n",
        "A list in Python is a heterogeneous data structure, meaning it can store multiple data types in the same list.\n",
        "\n",
        "--So **Yes**, a list can store different data types.\n",
        "\n",
        "--Python lists are dynamic and store references to objects, rather than requiring a fixed data type (like arrays in some other languages). This flexibility makes lists very powerful.\n",
        "\n",
        "**Example:**\n",
        "\n",
        "my_list = [42, \"hello\", 3.14, True, [1, 2, 3], {\"key\": \"value\"}]\n",
        "\n",
        "print(my_list)\n",
        "\n",
        "\n"
      ],
      "metadata": {
        "id": "ID9WFvmKOQsr"
      }
    },
    {
      "cell_type": "markdown",
      "source": [],
      "metadata": {
        "id": "x5eIikij0Zn5"
      }
    },
    {
      "cell_type": "markdown",
      "source": [
        "#10.  Explain why strings are immutable in Python?\n",
        "\n",
        "-->\n",
        "\n",
        " Strings are immutable, meaning once created, they cannot be changed. If you try to modify a string, a new string is created instead.\n",
        "\n",
        " --Strings are immutable in Python to ensure memory efficiency, data integrity, and security. This immutability allows strings to be hashable, making them safe for use as keys in dictionaries and elements in sets. It also prevents accidental changes and enables performance optimizations like string interning and thread safety."
      ],
      "metadata": {
        "id": "od9qxWE5O4mG"
      }
    },
    {
      "cell_type": "markdown",
      "source": [],
      "metadata": {
        "id": "YW3pTzwh0Zqt"
      }
    },
    {
      "cell_type": "markdown",
      "source": [
        "#11.What advantages do dictionaries offer over lists for certain tasks?\n",
        "\n",
        "-->1️ Fast Lookups (O(1))\n",
        "Dictionaries provide constant-time access to values using keys, while lists require O(n) time to search by value.\n",
        "\n",
        "2️ Key-Value Mapping\n",
        "Dictionaries store data as key-value pairs, making them ideal for situations where you need to associate a name (key) with data (value), unlike lists that only store values by index.\n",
        "\n",
        "3️ Improved Readability\n",
        "Accessing data with descriptive keys (e.g., person[\"age\"]) is more intuitive than using numeric indices (e.g., person[2] in a list).\n",
        "\n",
        "4️ No Need for Sequential Indexing\n",
        "Dictionaries don’t rely on positions (indexes), so they are better suited when you need to store non-sequential or uniquely labeled data."
      ],
      "metadata": {
        "id": "KgyI_YyP8y6P"
      }
    },
    {
      "cell_type": "markdown",
      "source": [],
      "metadata": {
        "id": "HL0Ytiz-0Zta"
      }
    },
    {
      "cell_type": "markdown",
      "source": [
        "#12.Describe a scenario where using a tuple would be preferable over a list?\n",
        "\n",
        "-->\n",
        "A tuple is an immutable data type so there is no chance of changing it.\n",
        "\n",
        "**Example:-**You are storing fixed coordinates (e.g., GPS location) for a city, like latitude and longitude, that should not change during program execution.\n",
        "\n",
        "\n",
        "city_coordinates = (40.7128, -74.0060)  # New York City (lat, long)\n",
        "\n",
        "Here we used tuple because\n",
        "\n",
        "The coordinates are constant, so immutability helps protect them from accidental changes.\n",
        "\n",
        "Tuples are hashable, allowing you to use them as keys in dictionaries (e.g., mapping coordinates to city names).\n",
        "\n",
        "location_map = { (40.7128, -74.0060): \"New York City\" }\n"
      ],
      "metadata": {
        "id": "jXFuLPHV9mIq"
      }
    },
    {
      "cell_type": "markdown",
      "source": [],
      "metadata": {
        "id": "Jh-SsV-l0Zv5"
      }
    },
    {
      "cell_type": "markdown",
      "source": [
        "#13.How do sets handle duplicate values in Python?\n",
        "\n",
        "-->\n",
        "In Python, sets automatically remove duplicate values. When you add elements to a set, any duplicates are ignored, and only unique elements are stored.\n",
        "\n",
        "my_set = {1, 2, 2, 3, 4, 4, 5}\n",
        "\n",
        "print(my_set)  \n",
        "// Output: {1, 2, 3, 4, 5}\n",
        "\n",
        "-This is how it works\n",
        "\n",
        "Sets use a hashing mechanism to check for duplicates.\n",
        "\n",
        "If an element's hash already exists in the set, it is not added again.\n"
      ],
      "metadata": {
        "id": "2GZpJiI9_u-o"
      }
    },
    {
      "cell_type": "markdown",
      "source": [],
      "metadata": {
        "id": "8r6mUykz0Zzm"
      }
    },
    {
      "cell_type": "markdown",
      "source": [
        "#14. How does the “in” keyword work differently for lists and dictionaries?\n",
        "\n",
        "-->\n",
        "**For list:**\n",
        "\n",
        "The **in** keyword checks **if a value exists in the list.**\n",
        "\n",
        "my_list = [1, 2, 3, 4]\n",
        "\n",
        "print(2 in my_list)   //True (2 is present)\n",
        "\n",
        "--Searches the entire list (O(n) time complexity).\n",
        "\n",
        "**For Dictionaries:**\n",
        "\n",
        "The **in** keyword checks **if a key exists, NOT the value.**\n",
        "\n",
        "my_dict = {\"name\": \"Alice\", \"age\": 25}\n",
        "\n",
        "print(\"name\" in my_dict)   //True (key is present)\n",
        "\n",
        "print(\"Alice\" in my_dict)   //False (value, not key)\n",
        "\n",
        "--Checks for keys only, using a hash table (O(1) time complexity).\n",
        "  \n"
      ],
      "metadata": {
        "id": "H7bY1CyPRwZ4"
      }
    },
    {
      "cell_type": "markdown",
      "source": [],
      "metadata": {
        "id": "e2168U0Q0Z2U"
      }
    },
    {
      "cell_type": "markdown",
      "source": [
        "#15. Can you modify the elements of a tuple? Explain why or why not?\n",
        "\n",
        "-->\n",
        "No, you cannot modify the elements of a tuple because tuples are immutable in Python. Once a tuple is created, its elements cannot be changed, added, or deleted. This immutability ensures that the data remains constant and secure, preventing accidental changes.\n",
        "\n",
        "Example:\n",
        "my_tuple = (1, 2, 3)\n",
        "my_tuple[0] = 10\n",
        " // TypeError: 'tuple' object does not support item assignment\n",
        "\n",
        "But, while you can't modify a tuple directly, you can create a new tuple based on the original.\n",
        "\n",
        "my_tuple = (1, 2, 3)\n",
        "new_tuple = (10,) + my_tuple[1:]\n",
        "// ✅ Creates (10, 2, 3)\n"
      ],
      "metadata": {
        "id": "61dx4dPhSsQ6"
      }
    },
    {
      "cell_type": "markdown",
      "source": [],
      "metadata": {
        "id": "0_X-4dtd0Z5E"
      }
    },
    {
      "cell_type": "markdown",
      "source": [
        "#16. What is a nested dictionary, and give an example of its use case?\n",
        "\n",
        "-->\n",
        "A nested dictionary is a dictionary inside another dictionary. It allows you to store complex, hierarchical data where each key can map to another dictionary as its value.\n",
        "\n",
        "student = {\n",
        "    \"name\": \"Alice\",\n",
        "\n",
        "    \"grades\": {\n",
        "\n",
        "        \"math\": 90,\n",
        "\n",
        "        \"science\": 85\n",
        "\n",
        "    },\n",
        "    \"address\": {\n",
        "\n",
        "        \"city\": \"New York\",\n",
        "        \n",
        "        \"zip\": \"10001\"\n",
        "    }\n",
        "}\n"
      ],
      "metadata": {
        "id": "ml4N9gqbV_Bp"
      }
    },
    {
      "cell_type": "markdown",
      "source": [],
      "metadata": {
        "id": "zFs34UfF0Z7y"
      }
    },
    {
      "cell_type": "markdown",
      "source": [
        "#17.  Describe the time complexity of accessing elements in a dictionary.\n",
        "\n",
        "-->\n",
        "Time Complexity of Accessing Elements in a Dictionary\n",
        "The time complexity of accessing elements in a Python dictionary is:\n",
        "\n",
        "** O(1) average case**\n",
        "\n",
        "Dictionary uses a hash table for key lookups, so accessing a value by its key is typically constant time.\n",
        "\n",
        "** O(n) worst case**\n",
        "\n",
        "In rare cases with hash collisions, it can degrade to linear time (O(n)), but Python handles collisions efficiently, so this is uncommon.\n",
        "\n",
        "\n",
        "**Example:**\n",
        "\n",
        "my_dict = {\"name\": \"Alice\", \"age\": 25}\n",
        "\n",
        "print(my_dict[\"name\"])  # O(1) lookup\n"
      ],
      "metadata": {
        "id": "21vt1N2aWR8a"
      }
    },
    {
      "cell_type": "markdown",
      "source": [],
      "metadata": {
        "id": "M_dvL2ui0Z-a"
      }
    },
    {
      "cell_type": "markdown",
      "source": [
        "#18. In what situations are lists preferred over dictionaries?\n",
        "\n",
        "-->\n",
        " **1. Ordered Data Sequences**\n",
        "When you need to store items in a specific order (indexed by position), use a list.\n",
        "\n",
        "** 2. Simple Collections**\n",
        "For simple sequences of data without needing key-value pairs, a list is more efficient.\n",
        "\n",
        " **3. Iteration Over Values**\n",
        "When you mainly need to iterate through all elements, lists are easier and faster to loop over.\n",
        "\n",
        "** 4. Duplicate Values Allowed**\n",
        "Unlike dictionaries (which require unique keys), lists allow duplicate items.\n",
        "\n",
        " **5. Memory Efficiency**\n",
        "For small datasets where only values are needed, lists are more memory-friendly than dictionaries.\n"
      ],
      "metadata": {
        "id": "o5EijENOYMpi"
      }
    },
    {
      "cell_type": "markdown",
      "source": [],
      "metadata": {
        "id": "5jWnkHad0aA0"
      }
    },
    {
      "cell_type": "markdown",
      "source": [
        "#19. Why are dictionaries considered unordered, and how does that affect data retrieval?\n",
        "\n",
        "-->\n",
        "In Python versions before 3.7, dictionaries were considered unordered because they did not maintain the insertion order of keys. Instead, keys were stored based on their hash values, which could scatter them in memory.\n",
        "\n",
        "Retrieving by key is always possible (O(1) time), but you cannot rely on the order of keys for tasks like iteration or displaying data.\n",
        "\n",
        "**Since Python 3.7+:**\n",
        "\n",
        "Dictionaries now preserve insertion order, but they are still conceptually treated as unordered mappings because:\n",
        "\n",
        "The order is not the main design feature.\n",
        "\n",
        "Key-based access is still prioritized over positional access (unlike lists).\n",
        "\n",
        "\n"
      ],
      "metadata": {
        "id": "rA-QobPnYnNj"
      }
    },
    {
      "cell_type": "markdown",
      "source": [],
      "metadata": {
        "id": "ZjbeKFKy1XGL"
      }
    },
    {
      "cell_type": "markdown",
      "source": [
        "#20.  Explain the difference between a list and a dictionary in terms of data retrieval.\n",
        "\n",
        "-->\n",
        "**List:**\n",
        "\n",
        "1.Retrieves data by index/position (e.g., list[0]).\n",
        "\n",
        "2.Used for storing ordered sequences of items.\n",
        "\n",
        "3.Requires knowledge of the index to access an item.\n",
        "\n",
        "4.Supports duplicate values.\n",
        "\n",
        "5.Access time is O(1) when the index is known.\n",
        "\n",
        "**Dictionary:**\n",
        "\n",
        "1.Retrieves data by key (e.g., dict[\"name\"]).\n",
        "\n",
        "2.Used for storing key-value pairs (mapping data).\n",
        "\n",
        "3.Requires knowledge of the key to access a value.\n",
        "\n",
        "4.Keys must be unique, but values can be duplicated.\n",
        "\n",
        "5.Access time is O(1) on average due to hashing.\n"
      ],
      "metadata": {
        "id": "3UUtDtsiZ03i"
      }
    },
    {
      "cell_type": "markdown",
      "source": [
        "#Practical Questions"
      ],
      "metadata": {
        "id": "FiqrZepZahvD"
      }
    },
    {
      "cell_type": "code",
      "source": [
        " # 1. Write a code to create a string with your name and print it.\n",
        "\n",
        "my_name = \"sahil virendrasingh chauhan\"\n",
        "print(my_name)"
      ],
      "metadata": {
        "colab": {
          "base_uri": "https://localhost:8080/"
        },
        "id": "abwTb2gmbeFG",
        "outputId": "3c48e1f2-2bed-420c-8c08-b74465361181"
      },
      "execution_count": null,
      "outputs": [
        {
          "output_type": "stream",
          "name": "stdout",
          "text": [
            "sahil virendrasingh chauhan\n"
          ]
        }
      ]
    },
    {
      "cell_type": "code",
      "source": [
        "#2. Write a code to find the length of the string \"Hello World\"\n",
        "text = \"Hello World\"\n",
        "\n",
        "print(\"The length of text is:\",len(text))\n"
      ],
      "metadata": {
        "colab": {
          "base_uri": "https://localhost:8080/"
        },
        "id": "ARoALMN6bvpQ",
        "outputId": "41c82c23-c3f3-4888-e6b0-3e21813ae436"
      },
      "execution_count": null,
      "outputs": [
        {
          "output_type": "stream",
          "name": "stdout",
          "text": [
            "The length of text is: 11\n"
          ]
        }
      ]
    },
    {
      "cell_type": "code",
      "source": [
        "#3.Write a code to slice the first 3 characters from the string \"Python Programming\"\n",
        "\n",
        "text = \"Python Programming\"\n",
        "\n",
        "print(\"First three characters are:\", text[0:3])\n"
      ],
      "metadata": {
        "colab": {
          "base_uri": "https://localhost:8080/"
        },
        "id": "y87ulyfNcNaJ",
        "outputId": "dd0036ba-4478-4f88-e105-9700234876c9"
      },
      "execution_count": null,
      "outputs": [
        {
          "output_type": "stream",
          "name": "stdout",
          "text": [
            "First three characters are: Pyt\n"
          ]
        }
      ]
    },
    {
      "cell_type": "code",
      "source": [
        "#4. Write a code to convert the string \"hello\" to uppercase.\n",
        "\n",
        "text = \"hello\"\n",
        "\n",
        "print(\"Uppercase of text is:\", text.upper())\n",
        "\n"
      ],
      "metadata": {
        "colab": {
          "base_uri": "https://localhost:8080/"
        },
        "id": "1rbBC_sRcj2n",
        "outputId": "7cc8e61a-a60d-4e25-b13e-18f6e59ced53"
      },
      "execution_count": null,
      "outputs": [
        {
          "output_type": "stream",
          "name": "stdout",
          "text": [
            "Uppercase of text is: HELLO\n"
          ]
        }
      ]
    },
    {
      "cell_type": "code",
      "source": [
        "#5. Write a code to replace the word \"apple\" with \"orange\" in the string \"I like apple\"\n",
        "\n",
        "text = \"I like apple\"\n",
        "\n",
        "print(text.replace(\"apple\", \"orange\"))"
      ],
      "metadata": {
        "colab": {
          "base_uri": "https://localhost:8080/"
        },
        "id": "ZX9zUngPcr3x",
        "outputId": "23c6b69b-ee8d-4e09-9713-55deba9d9b4e"
      },
      "execution_count": null,
      "outputs": [
        {
          "output_type": "stream",
          "name": "stdout",
          "text": [
            "I like orange\n"
          ]
        }
      ]
    },
    {
      "cell_type": "code",
      "source": [
        "#6.  Write a code to create a list with numbers 1 to 5 and print it.\n",
        "\n",
        "my_list = []\n",
        "\n",
        "for i in range(1,6):\n",
        "  my_list.append(i)\n",
        "\n",
        "print(my_list)\n"
      ],
      "metadata": {
        "colab": {
          "base_uri": "https://localhost:8080/"
        },
        "id": "o-pH2IeHrysh",
        "outputId": "d8f3d9e8-c855-4512-8a46-675b644e41d0"
      },
      "execution_count": null,
      "outputs": [
        {
          "output_type": "stream",
          "name": "stdout",
          "text": [
            "[1, 2, 3, 4, 5]\n"
          ]
        }
      ]
    },
    {
      "cell_type": "code",
      "source": [
        "#7. Write a code to append the number 10 to the list [1, 2, 3, 4]\n",
        "\n",
        "list = [1,2,3,4]\n",
        "\n",
        "list.append(10)\n",
        "\n",
        "print(list)"
      ],
      "metadata": {
        "colab": {
          "base_uri": "https://localhost:8080/"
        },
        "id": "mAm40h_BsZyr",
        "outputId": "12b19380-5594-48ef-ffc4-32c4ce27c5f6"
      },
      "execution_count": null,
      "outputs": [
        {
          "output_type": "stream",
          "name": "stdout",
          "text": [
            "[1, 2, 3, 4, 10]\n"
          ]
        }
      ]
    },
    {
      "cell_type": "code",
      "source": [
        "#8. Write a code to remove the number 3 from the list [1, 2, 3, 4, 5]\n",
        "\n",
        "lst = [1, 2, 3, 4, 5]\n",
        "\n",
        "lst.remove(3)\n",
        "print(lst)"
      ],
      "metadata": {
        "colab": {
          "base_uri": "https://localhost:8080/"
        },
        "id": "IlK9hxn7slMl",
        "outputId": "fddd3531-5e5e-4dcb-8bf2-5f2d6697438b"
      },
      "execution_count": null,
      "outputs": [
        {
          "output_type": "stream",
          "name": "stdout",
          "text": [
            "[1, 2, 4, 5]\n"
          ]
        }
      ]
    },
    {
      "cell_type": "code",
      "source": [
        "#9. Write a code to access the second element in the list ['a', 'b', 'c', 'd']\n",
        "\n",
        "lst = ['a', 'b', 'c', 'd']\n",
        "\n",
        "print(\"The second element is:\",lst[1])"
      ],
      "metadata": {
        "colab": {
          "base_uri": "https://localhost:8080/"
        },
        "id": "GHGAyXAytR7D",
        "outputId": "2cbba89b-de0b-442e-8129-68a281d65588"
      },
      "execution_count": null,
      "outputs": [
        {
          "output_type": "stream",
          "name": "stdout",
          "text": [
            "The second element is: b\n"
          ]
        }
      ]
    },
    {
      "cell_type": "code",
      "source": [
        "#10. Write a code to reverse the list [10, 20, 30, 40, 50].\n",
        "\n",
        "lst = [10, 20, 30, 40, 50]\n",
        "\n",
        "lst.reverse()\n",
        "\n",
        "print(lst)"
      ],
      "metadata": {
        "colab": {
          "base_uri": "https://localhost:8080/"
        },
        "id": "4NqUvWVItx1S",
        "outputId": "986ea7ae-1b87-4f35-c897-9134a161312c"
      },
      "execution_count": null,
      "outputs": [
        {
          "output_type": "stream",
          "name": "stdout",
          "text": [
            "[50, 40, 30, 20, 10]\n"
          ]
        }
      ]
    },
    {
      "cell_type": "code",
      "source": [
        "#11.  Write a code to create a tuple with the elements 100, 200, 300 and print it.\n",
        "\n",
        "my_tuple = (100,200,300)\n",
        "print(my_tuple)"
      ],
      "metadata": {
        "colab": {
          "base_uri": "https://localhost:8080/"
        },
        "id": "FsdiqHdJuC2u",
        "outputId": "34a08b34-0118-4dd2-9a98-4c3040b4a36f"
      },
      "execution_count": null,
      "outputs": [
        {
          "output_type": "stream",
          "name": "stdout",
          "text": [
            "(100, 200, 300)\n"
          ]
        }
      ]
    },
    {
      "cell_type": "code",
      "source": [
        "#12. Write a code to access the second-to-last element of the tuple ('red', 'green', 'blue', 'yellow').\n",
        "\n",
        "my_tuple = ('red', 'green', 'blue', 'yellow')\n",
        "\n",
        "print(\"The second-to-last element is:\",my_tuple[2:4])"
      ],
      "metadata": {
        "colab": {
          "base_uri": "https://localhost:8080/"
        },
        "id": "ccgfpi23uVOJ",
        "outputId": "bf99269f-86d9-4ade-dda2-1bbfb2435e78"
      },
      "execution_count": null,
      "outputs": [
        {
          "output_type": "stream",
          "name": "stdout",
          "text": [
            "The second-to-last element is: ('blue', 'yellow')\n"
          ]
        }
      ]
    },
    {
      "cell_type": "code",
      "source": [
        "#13. Write a code to find the minimum number in the tuple (10, 20, 5, 15).\n",
        "\n",
        "my_tuple = (10, 20, 5, 15)\n",
        "\n",
        "print(\"The minimum number is:\",min(my_tuple))"
      ],
      "metadata": {
        "colab": {
          "base_uri": "https://localhost:8080/"
        },
        "id": "9V5RM5cdJOVb",
        "outputId": "5afc3657-1786-4265-9e7a-104ec43d741c"
      },
      "execution_count": null,
      "outputs": [
        {
          "output_type": "stream",
          "name": "stdout",
          "text": [
            "The minimum number is: 5\n"
          ]
        }
      ]
    },
    {
      "cell_type": "code",
      "source": [
        "#14. Write a code to find the index of the element \"cat\" in the tuple ('dog', 'cat', 'rabbit').\n",
        "\n",
        "my_tuple = ('dog', 'cat', 'rabbit')\n",
        "\n",
        "print(\"The index of cat is:\",my_tuple.index(\"cat\"))"
      ],
      "metadata": {
        "colab": {
          "base_uri": "https://localhost:8080/"
        },
        "id": "q3ExpVseJd7h",
        "outputId": "fca9f45e-846f-48c6-960d-1b7a20683a72"
      },
      "execution_count": null,
      "outputs": [
        {
          "output_type": "stream",
          "name": "stdout",
          "text": [
            "The index of cat is: 1\n"
          ]
        }
      ]
    },
    {
      "cell_type": "code",
      "source": [
        "#15. Write a code to create a tuple containing three different fruits and check if \"kiwi\" is in it.\n",
        "fruits = (\"apple\", \"banana\", \"kiwi\")\n",
        "\n",
        "if  \"kiwi\" in fruits:\n",
        "    print(\"kiwi is in the tuple\")\n",
        "else:\n",
        "    print(\"Kiwi is not there\")"
      ],
      "metadata": {
        "colab": {
          "base_uri": "https://localhost:8080/"
        },
        "id": "qFRUKDKEJrG6",
        "outputId": "04b87cf4-39ef-4a7d-fedf-500772fd3bc2"
      },
      "execution_count": null,
      "outputs": [
        {
          "output_type": "stream",
          "name": "stdout",
          "text": [
            "kiwi is in the tuple\n"
          ]
        }
      ]
    },
    {
      "cell_type": "code",
      "source": [
        "#16. Write a code to create a set with the elements 'a', 'b', 'c' and print it.\n",
        "\n",
        "my_set = {'a','b','c'}\n",
        "\n",
        "print(my_set)"
      ],
      "metadata": {
        "colab": {
          "base_uri": "https://localhost:8080/"
        },
        "id": "tYg32SpzJ3Mg",
        "outputId": "dd3e9bed-216f-4423-fc24-0e7097fc5ee9"
      },
      "execution_count": null,
      "outputs": [
        {
          "output_type": "stream",
          "name": "stdout",
          "text": [
            "{'b', 'a', 'c'}\n"
          ]
        }
      ]
    },
    {
      "cell_type": "code",
      "source": [
        "#17. Write a code to clear all elements from the set {1, 2, 3, 4, 5}.\n",
        "\n",
        "my_set = {1, 2, 3, 4, 5}\n",
        "\n",
        "my_set.clear()\n",
        "\n",
        "print(my_set)"
      ],
      "metadata": {
        "colab": {
          "base_uri": "https://localhost:8080/"
        },
        "id": "Kv8pt_psKYTJ",
        "outputId": "409f84bb-d4e8-43fe-c1a7-d8f0bf6c6cdf"
      },
      "execution_count": null,
      "outputs": [
        {
          "output_type": "stream",
          "name": "stdout",
          "text": [
            "set()\n"
          ]
        }
      ]
    },
    {
      "cell_type": "code",
      "source": [
        "#18. Write a code to remove the element 4 from the set {1, 2, 3, 4}.\n",
        "\n",
        "my_set = {1, 2, 3, 4}\n",
        "\n",
        "my_set.remove(4)\n",
        "\n",
        "print(my_set)"
      ],
      "metadata": {
        "colab": {
          "base_uri": "https://localhost:8080/"
        },
        "id": "_VWzYmN1K7ka",
        "outputId": "c7205fc6-9dc1-419d-bab1-8e1366e12a93"
      },
      "execution_count": null,
      "outputs": [
        {
          "output_type": "stream",
          "name": "stdout",
          "text": [
            "{1, 2, 3}\n"
          ]
        }
      ]
    },
    {
      "cell_type": "code",
      "source": [
        "#19. Write a code to find the union of two sets {1, 2, 3} and {3, 4, 5}.\n",
        "\n",
        "set1 = {1, 2, 3}\n",
        "set2 = {3, 4, 5}\n",
        "\n",
        "print(\"The union of two sets is:\",set1.union(set2))"
      ],
      "metadata": {
        "colab": {
          "base_uri": "https://localhost:8080/"
        },
        "id": "i6jN_vtELBcP",
        "outputId": "85941ccf-751d-479c-9826-9517399883f4"
      },
      "execution_count": null,
      "outputs": [
        {
          "output_type": "stream",
          "name": "stdout",
          "text": [
            "The union of two sets is: {1, 2, 3, 4, 5}\n"
          ]
        }
      ]
    },
    {
      "cell_type": "code",
      "source": [
        "#20. Write a code to find the intersection of two sets {1, 2, 3} and {2, 3, 4}.\n",
        "\n",
        "set1 = {1, 2, 3}\n",
        "set2 = {2, 3, 4}\n",
        "\n",
        "print(\"The intersection of two sets is:\",set1.intersection(set2))"
      ],
      "metadata": {
        "colab": {
          "base_uri": "https://localhost:8080/"
        },
        "id": "sTDFaXKXLLVC",
        "outputId": "7000a501-dca4-4cd1-c722-6fcb6a64dc49"
      },
      "execution_count": null,
      "outputs": [
        {
          "output_type": "stream",
          "name": "stdout",
          "text": [
            "The intersection of two sets is: {2, 3}\n"
          ]
        }
      ]
    },
    {
      "cell_type": "code",
      "source": [
        "#21. Write a code to create a dictionary with the keys \"name\", \"age\", and \"city\", and print it\n",
        "\n",
        "my_dict = {\"name\": \"Sahil\", \"age\": 23, \"city\": \"Wardha\"}\n",
        "\n",
        "print(my_dict)"
      ],
      "metadata": {
        "colab": {
          "base_uri": "https://localhost:8080/"
        },
        "id": "YmK0ROzuLQPV",
        "outputId": "d1448908-651c-47b6-98d1-4d5898e95815"
      },
      "execution_count": 3,
      "outputs": [
        {
          "output_type": "stream",
          "name": "stdout",
          "text": [
            "{'name': 'Sahil', 'age': 23, 'city': 'Wardha'}\n"
          ]
        }
      ]
    },
    {
      "cell_type": "code",
      "source": [
        "#22. Write a code to add a new key-value pair \"country\": \"USA\" to the dictionary {'name': 'John', 'age': 25}.\n",
        "\n",
        "my_dict = {'name': 'John', 'age': 25}\n",
        "\n",
        "my_dict[\"country\"] = \"USA\"\n",
        "\n",
        "print(my_dict)"
      ],
      "metadata": {
        "colab": {
          "base_uri": "https://localhost:8080/"
        },
        "id": "KcqqsdT0LYyZ",
        "outputId": "06be0a67-1747-4a99-9f4c-58ef0240d53e"
      },
      "execution_count": null,
      "outputs": [
        {
          "output_type": "stream",
          "name": "stdout",
          "text": [
            "{'name': 'John', 'age': 25, 'country': 'USA'}\n"
          ]
        }
      ]
    },
    {
      "cell_type": "code",
      "source": [
        "#23. Write a code to access the value associated with the key \"name\" in the dictionary {'name': 'Alice', 'age': 30}.\n",
        "\n",
        "my_dict = {'name': 'Alice', 'age': 30}\n",
        "\n",
        "print(\"The value associated with the key 'name' is:\",my_dict[\"name\"])"
      ],
      "metadata": {
        "colab": {
          "base_uri": "https://localhost:8080/"
        },
        "id": "WmUC7nQULewn",
        "outputId": "b39bf56e-f9f5-4b8f-e391-75d412c40531"
      },
      "execution_count": null,
      "outputs": [
        {
          "output_type": "stream",
          "name": "stdout",
          "text": [
            "The value associated with the key 'name' is: Alice\n"
          ]
        }
      ]
    },
    {
      "cell_type": "code",
      "source": [
        "#24. Write a code to remove the key \"age\" from the dictionary {'name': 'Bob', 'age': 22, 'city': 'New York'}.\n",
        "\n",
        "my_dict = {'name': 'Bob', 'age': 22, 'city': 'New York'}\n",
        "\n",
        "my_dict.pop(\"age\")\n",
        "\n",
        "print(my_dict)"
      ],
      "metadata": {
        "colab": {
          "base_uri": "https://localhost:8080/"
        },
        "id": "DpZFMr2SLoSe",
        "outputId": "5ad88cb5-9344-4790-bd13-e2ce8a545ecc"
      },
      "execution_count": null,
      "outputs": [
        {
          "output_type": "stream",
          "name": "stdout",
          "text": [
            "{'name': 'Bob', 'city': 'New York'}\n"
          ]
        }
      ]
    },
    {
      "cell_type": "code",
      "source": [
        "#25. Write a code to check if the key \"city\" exists in the dictionary {'name': 'Alice', 'city': 'Paris'}.\n",
        "\n",
        "my_dict = {'name': 'Alice', 'city': 'Paris'}\n",
        "\n",
        "if \"city\" in my_dict:\n",
        "    print(\"The key 'city' exists in the dictionary.\")\n",
        "else:\n",
        "    print(\"The key 'city' does not exist in the dictionary.\")"
      ],
      "metadata": {
        "colab": {
          "base_uri": "https://localhost:8080/"
        },
        "id": "ISr7PN-zLuik",
        "outputId": "75fa4675-08a6-433f-bdc7-e719d8ce40ca"
      },
      "execution_count": null,
      "outputs": [
        {
          "output_type": "stream",
          "name": "stdout",
          "text": [
            "The key 'city' exists in the dictionary.\n"
          ]
        }
      ]
    },
    {
      "cell_type": "code",
      "source": [
        "#26. Write a code to create a list, a tuple, and a dictionary, and print them all.\n",
        "\n",
        "my_list = [1,2,3,4]\n",
        "my_tuple = (1,2,3,4)\n",
        "my_dict = {\"name\": \"Shree\", \"age\": 21, \"city\": \"Mumbai\"}\n",
        "\n",
        "\n",
        "print(\"List:\", my_list)\n",
        "print(\"Tuple:\", my_tuple)\n",
        "print(\"Dictionary:\", my_dict)\n"
      ],
      "metadata": {
        "colab": {
          "base_uri": "https://localhost:8080/"
        },
        "id": "FXdRp9MwL2Sa",
        "outputId": "0241b46e-db26-4bf8-d8a9-8954032f2fed"
      },
      "execution_count": null,
      "outputs": [
        {
          "output_type": "stream",
          "name": "stdout",
          "text": [
            "List: [1, 2, 3, 4]\n",
            "Tuple: (1, 2, 3, 4)\n",
            "Dictionary: {'name': 'Shree', 'age': 21, 'city': 'Mumbai'}\n"
          ]
        }
      ]
    },
    {
      "cell_type": "code",
      "source": [
        "#27. Write a code to create a list of 5 random numbers between 1 and 100, sort it in ascending order, and print the result.(replaced)\n",
        "\n",
        "import random\n",
        "\n",
        "random_numbers = random.sample(range(1, 101), 5)\n",
        "\n",
        "random_numbers.sort()\n",
        "\n",
        "print(\"Sorted List:\", random_numbers)\n"
      ],
      "metadata": {
        "colab": {
          "base_uri": "https://localhost:8080/"
        },
        "id": "PADnmUItMIsL",
        "outputId": "b6278c3c-fdf6-4a3b-b377-40868b6d8961"
      },
      "execution_count": null,
      "outputs": [
        {
          "output_type": "stream",
          "name": "stdout",
          "text": [
            "Sorted List: [13, 48, 61, 71, 95]\n"
          ]
        }
      ]
    },
    {
      "cell_type": "code",
      "source": [
        "#28. Write a code to create a list with strings and print the element at the third index\n",
        "\n",
        "words = [\"apple\", \"banana\", \"cherry\", \"date\", \"elderberry\"]\n",
        "\n",
        "print(\"The element at the third index is:\",words[3])"
      ],
      "metadata": {
        "colab": {
          "base_uri": "https://localhost:8080/"
        },
        "id": "Iavey_zEMgOO",
        "outputId": "e7b38978-e3c8-4507-b08b-fa63fc480ed1"
      },
      "execution_count": null,
      "outputs": [
        {
          "output_type": "stream",
          "name": "stdout",
          "text": [
            "The element at the third index is: date\n"
          ]
        }
      ]
    },
    {
      "cell_type": "code",
      "source": [
        "#29. Write a code to combine two dictionaries into one and print the result\n",
        "\n",
        "dict1 = {'a': 1, 'b': 2}\n",
        "dict2 = {'c': 3, 'd': 4}\n",
        "\n",
        "combined_dict = {**dict1, **dict2}\n",
        "\n",
        "print(\"Combined Dictionary:\", combined_dict)"
      ],
      "metadata": {
        "colab": {
          "base_uri": "https://localhost:8080/"
        },
        "id": "0fk9nAFJMpMd",
        "outputId": "9f86f4f9-f918-4fd0-d5cb-6ed2da66885d"
      },
      "execution_count": null,
      "outputs": [
        {
          "output_type": "stream",
          "name": "stdout",
          "text": [
            "Combined Dictionary: {'a': 1, 'b': 2, 'c': 3, 'd': 4}\n"
          ]
        }
      ]
    },
    {
      "cell_type": "code",
      "source": [
        "#30. Write a code to convert a list of strings into a set.\n",
        "\n",
        "\n",
        "my_list = [\"apple\", \"banana\", \"cherry\", \"apple\"]\n",
        "\n",
        "\n",
        "my_set = set(my_list)\n",
        "\n",
        "print(\"Set:\", my_set)\n"
      ],
      "metadata": {
        "colab": {
          "base_uri": "https://localhost:8080/"
        },
        "id": "Af2DeBL3M4j4",
        "outputId": "53c7dc4e-dd95-4fce-8df8-85816ed5d0ad"
      },
      "execution_count": null,
      "outputs": [
        {
          "output_type": "stream",
          "name": "stdout",
          "text": [
            "Set: {'cherry', 'banana', 'apple'}\n"
          ]
        }
      ]
    }
  ]
}